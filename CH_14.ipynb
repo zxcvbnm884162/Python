{
  "nbformat": 4,
  "nbformat_minor": 0,
  "metadata": {
    "colab": {
      "name": "CH.14.ipynb",
      "provenance": [],
      "include_colab_link": true
    },
    "kernelspec": {
      "name": "python3",
      "display_name": "Python 3"
    }
  },
  "cells": [
    {
      "cell_type": "markdown",
      "metadata": {
        "id": "view-in-github",
        "colab_type": "text"
      },
      "source": [
        "<a href=\"https://colab.research.google.com/github/mapleyoyo/Python/blob/master/CH_14.ipynb\" target=\"_parent\"><img src=\"https://colab.research.google.com/assets/colab-badge.svg\" alt=\"Open In Colab\"/></a>"
      ]
    },
    {
      "cell_type": "markdown",
      "metadata": {
        "id": "ymuBTI6Y9KV1",
        "colab_type": "text"
      },
      "source": [
        "# **CH.14**"
      ]
    },
    {
      "cell_type": "markdown",
      "metadata": {
        "id": "C7RRJv0y9RMK",
        "colab_type": "text"
      },
      "source": [
        "# 14-1"
      ]
    },
    {
      "cell_type": "code",
      "metadata": {
        "id": "zWPiln2N9Ix3",
        "colab_type": "code",
        "colab": {
          "base_uri": "https://localhost:8080/",
          "height": 53
        },
        "outputId": "7b236f63-47d7-452a-96a4-5b14ada0ccdd"
      },
      "source": [
        "Num=int(input(\"please pick a number: \"))\n",
        "if Num%2==0:\n",
        "    print(\"Even Number\")\n",
        "else:\n",
        "    print(\"Odd Number\")"
      ],
      "execution_count": 1,
      "outputs": [
        {
          "output_type": "stream",
          "text": [
            "please pick a number: 123\n",
            "Odd Number\n"
          ],
          "name": "stdout"
        }
      ]
    },
    {
      "cell_type": "markdown",
      "metadata": {
        "id": "7p3XE-AB9XS0",
        "colab_type": "text"
      },
      "source": [
        "# 14-2"
      ]
    },
    {
      "cell_type": "code",
      "metadata": {
        "id": "4uOKQuTL9TGJ",
        "colab_type": "code",
        "colab": {
          "base_uri": "https://localhost:8080/",
          "height": 53
        },
        "outputId": "a7b6f707-4d4b-4e68-9302-16330e2362ff"
      },
      "source": [
        "num = int(input(\"Enter a number: \"))\n",
        "if num > 0:\n",
        "    print(\"num is positive\")\n",
        "elif num < 0:\n",
        "    print(\"num is negative\")\n",
        "else:\n",
        "    print(\"num is zero\")"
      ],
      "execution_count": 2,
      "outputs": [
        {
          "output_type": "stream",
          "text": [
            "Enter a number: 132\n",
            "num is positive\n"
          ],
          "name": "stdout"
        }
      ]
    },
    {
      "cell_type": "markdown",
      "metadata": {
        "id": "ZD9eYOdb9qS-",
        "colab_type": "text"
      },
      "source": [
        "# 14-3"
      ]
    },
    {
      "cell_type": "code",
      "metadata": {
        "id": "JZxihlY19aZW",
        "colab_type": "code",
        "colab": {
          "base_uri": "https://localhost:8080/",
          "height": 90
        },
        "outputId": "9ba696a4-23d3-4253-d75b-541d741ab9dd"
      },
      "source": [
        "num_a = int(input(\"pick a number: \"))\n",
        "num_b = int(input(\"pick another number: \"))\n",
        "lucky_num = 7\n",
        "if num_a==num_b:\n",
        "    print(\"You enter the same number\")\n",
        "else:\n",
        "    if num_a > 0 and num_b > 0:\n",
        "        print(\"both numbers are positive\")\n",
        "    elif num_a < 0 and num_b < 0:\n",
        "        print(\"both numbers are negative\")\n",
        "    else:\n",
        "        print(\"numbers have opposite sign\")\n",
        "if num_a == lucky_num or num_b == lucky_num:\n",
        "    print(\"you also guessed my lucky number!\")\n",
        "else:\n",
        "    print(\"I have a secret number in mind...\")"
      ],
      "execution_count": 3,
      "outputs": [
        {
          "output_type": "stream",
          "text": [
            "pick a number: 123\n",
            "pick another number: 123\n",
            "You enter the same number\n",
            "I have a secret number in mind...\n"
          ],
          "name": "stdout"
        }
      ]
    },
    {
      "cell_type": "markdown",
      "metadata": {
        "id": "K4hDcC0z90lM",
        "colab_type": "text"
      },
      "source": [
        "# 14-4"
      ]
    },
    {
      "cell_type": "code",
      "metadata": {
        "id": "q_OdNecn9sjD",
        "colab_type": "code",
        "colab": {
          "base_uri": "https://localhost:8080/",
          "height": 90
        },
        "outputId": "b52c64a3-8379-4433-f43c-ae7e7558f917"
      },
      "source": [
        "num_a = int(input(\"pick a number: \"))\n",
        "num_b = int(input(\"pick another number: \"))\n",
        "lucky_num = 7\n",
        "if num_a == num_b:\n",
        "    print(\"You enter the same number\")\n",
        "elif num_a > 0 and num_b > 0:\n",
        "    print(\"both numbers are positive\")\n",
        "elif num_a < 0 and num_b < 0:\n",
        "    print(\"both numbers are negative\")\n",
        "else:\n",
        "    print(\"numbers have opposite sign\")\n",
        "if num_a == lucky_num or num_b == lucky_num:\n",
        "    print(\"you also guessed my lucky number!\")\n",
        "else:\n",
        "    print(\"I have a secret number in mind...\")"
      ],
      "execution_count": 6,
      "outputs": [
        {
          "output_type": "stream",
          "text": [
            "pick a number: 1\n",
            "pick another number: 2\n",
            "both numbers are positive\n",
            "I have a secret number in mind...\n"
          ],
          "name": "stdout"
        }
      ]
    },
    {
      "cell_type": "markdown",
      "metadata": {
        "id": "Qh25U1fy9-GG",
        "colab_type": "text"
      },
      "source": [
        "# 14-5"
      ]
    },
    {
      "cell_type": "code",
      "metadata": {
        "id": "8dZqrtPD92dR",
        "colab_type": "code",
        "colab": {
          "base_uri": "https://localhost:8080/",
          "height": 53
        },
        "outputId": "ecc1fa75-72a2-4436-9295-60e1113637fb"
      },
      "source": [
        "greeting = input(\"Say hi in English or Spanish! \")\n",
        "greet_en =(\"hi\", \"Hi\", \"hello\", \"Hello\")\n",
        "greet_sp =(\"hola\", \"Hola\")\n",
        "if greeting not in greet_en and greeting not in greet_sp:\n",
        "    print(\"I don't understand your greeting.\")\n",
        "elif greeting in greet_en:\n",
        "  num = int(input(\"Enter 1 or 2: \"))\n",
        "  print(\"You speak English!\")\n",
        "  if num == 1:\n",
        "      print(\"one\")\n",
        "  elif num == 2:\n",
        "      print(\"two\")\n",
        "elif greeting in greet_sp:\n",
        "    num = int(input(\"Enter 1 or 2: \"))\n",
        "    print(\"You speak Spanish!\")\n",
        "    if num == 1:\n",
        "        print(\"uno\")\n",
        "    elif num == 2:\n",
        "        print(\"dos\")"
      ],
      "execution_count": 8,
      "outputs": [
        {
          "output_type": "stream",
          "text": [
            "Say hi in English or Spanish! 1\n",
            "I don't understand your greeting.\n"
          ],
          "name": "stdout"
        }
      ]
    }
  ]
}