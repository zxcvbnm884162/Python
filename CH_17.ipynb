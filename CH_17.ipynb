{
  "nbformat": 4,
  "nbformat_minor": 0,
  "metadata": {
    "colab": {
      "name": "CH-17.ipynb",
      "provenance": [],
      "include_colab_link": true
    },
    "kernelspec": {
      "name": "python3",
      "display_name": "Python 3"
    }
  },
  "cells": [
    {
      "cell_type": "markdown",
      "metadata": {
        "id": "view-in-github",
        "colab_type": "text"
      },
      "source": [
        "<a href=\"https://colab.research.google.com/github/mapleyoyo/Python/blob/master/CH_17.ipynb\" target=\"_parent\"><img src=\"https://colab.research.google.com/assets/colab-badge.svg\" alt=\"Open In Colab\"/></a>"
      ]
    },
    {
      "cell_type": "markdown",
      "metadata": {
        "id": "oIlEEYsn4bhW",
        "colab_type": "text"
      },
      "source": [
        "# ch17"
      ]
    },
    {
      "cell_type": "markdown",
      "metadata": {
        "id": "ePBh6Vhz4bRz",
        "colab_type": "text"
      },
      "source": [
        "# 17-1不使用迴圈"
      ]
    },
    {
      "cell_type": "code",
      "metadata": {
        "id": "E6qDwObO4Xgv",
        "colab_type": "code",
        "colab": {}
      },
      "source": [
        "print(\"Hello Python\")\n",
        "print(\"Hello Python\")\n",
        "print(\"Hello Python\")\n",
        "print(\"Hello Python\")\n",
        "print(\"Hello Python\")\n",
        "print(\"Hello Python\")\n",
        "print(\"Hello Python\")\n",
        "print(\"Hello Python\")\n",
        "print(\"Hello Python\")\n",
        "print(\"Hello Python\")"
      ],
      "execution_count": 0,
      "outputs": []
    },
    {
      "cell_type": "markdown",
      "metadata": {
        "id": "ssxhE93J4h3n",
        "colab_type": "text"
      },
      "source": [
        "# 17-1使用for迴圈"
      ]
    },
    {
      "cell_type": "code",
      "metadata": {
        "id": "yhFWJ-6-4ijo",
        "colab_type": "code",
        "colab": {
          "base_uri": "https://localhost:8080/",
          "height": 199
        },
        "outputId": "ec12a007-f017-4cea-b69e-5fed5cc4640f"
      },
      "source": [
        "for i in range(10):\n",
        "    print(\"Hello Python\")"
      ],
      "execution_count": 1,
      "outputs": [
        {
          "output_type": "stream",
          "text": [
            "Hello Python\n",
            "Hello Python\n",
            "Hello Python\n",
            "Hello Python\n",
            "Hello Python\n",
            "Hello Python\n",
            "Hello Python\n",
            "Hello Python\n",
            "Hello Python\n",
            "Hello Python\n"
          ],
          "name": "stdout"
        }
      ]
    },
    {
      "cell_type": "markdown",
      "metadata": {
        "id": "onm4a-DO4qhU",
        "colab_type": "text"
      },
      "source": [
        "# 17-2"
      ]
    },
    {
      "cell_type": "code",
      "metadata": {
        "id": "BhjAdKHz4q_1",
        "colab_type": "code",
        "colab": {
          "base_uri": "https://localhost:8080/",
          "height": 53
        },
        "outputId": "1f6b9465-511e-4013-db05-3e46e690b66e"
      },
      "source": [
        "for i in range(10, 1, -1):\n",
        "    print(i, end=\" \")\n",
        "print()\n",
        "for i in range(0, 9, 2): \n",
        "    print(i, end=\" \") "
      ],
      "execution_count": 2,
      "outputs": [
        {
          "output_type": "stream",
          "text": [
            "10 9 8 7 6 5 4 3 2 \n",
            "0 2 4 6 8 "
          ],
          "name": "stdout"
        }
      ]
    },
    {
      "cell_type": "markdown",
      "metadata": {
        "id": "sHfIldpg4xhL",
        "colab_type": "text"
      },
      "source": [
        "# 17-3"
      ]
    },
    {
      "cell_type": "code",
      "metadata": {
        "id": "9XEAlrol4yAY",
        "colab_type": "code",
        "colab": {
          "base_uri": "https://localhost:8080/",
          "height": 181
        },
        "outputId": "a2821049-d263-4558-9b69-7a1d3f0a1f78"
      },
      "source": [
        "for i in range(1, 10):\n",
        "    for j in range(1, 10):\n",
        "        print(j, \"x\", i, \"=\", j*i, end=' ')\n",
        "    print()"
      ],
      "execution_count": 3,
      "outputs": [
        {
          "output_type": "stream",
          "text": [
            "1 x 1 = 1 2 x 1 = 2 3 x 1 = 3 4 x 1 = 4 5 x 1 = 5 6 x 1 = 6 7 x 1 = 7 8 x 1 = 8 9 x 1 = 9 \n",
            "1 x 2 = 2 2 x 2 = 4 3 x 2 = 6 4 x 2 = 8 5 x 2 = 10 6 x 2 = 12 7 x 2 = 14 8 x 2 = 16 9 x 2 = 18 \n",
            "1 x 3 = 3 2 x 3 = 6 3 x 3 = 9 4 x 3 = 12 5 x 3 = 15 6 x 3 = 18 7 x 3 = 21 8 x 3 = 24 9 x 3 = 27 \n",
            "1 x 4 = 4 2 x 4 = 8 3 x 4 = 12 4 x 4 = 16 5 x 4 = 20 6 x 4 = 24 7 x 4 = 28 8 x 4 = 32 9 x 4 = 36 \n",
            "1 x 5 = 5 2 x 5 = 10 3 x 5 = 15 4 x 5 = 20 5 x 5 = 25 6 x 5 = 30 7 x 5 = 35 8 x 5 = 40 9 x 5 = 45 \n",
            "1 x 6 = 6 2 x 6 = 12 3 x 6 = 18 4 x 6 = 24 5 x 6 = 30 6 x 6 = 36 7 x 6 = 42 8 x 6 = 48 9 x 6 = 54 \n",
            "1 x 7 = 7 2 x 7 = 14 3 x 7 = 21 4 x 7 = 28 5 x 7 = 35 6 x 7 = 42 7 x 7 = 49 8 x 7 = 56 9 x 7 = 63 \n",
            "1 x 8 = 8 2 x 8 = 16 3 x 8 = 24 4 x 8 = 32 5 x 8 = 40 6 x 8 = 48 7 x 8 = 56 8 x 8 = 64 9 x 8 = 72 \n",
            "1 x 9 = 9 2 x 9 = 18 3 x 9 = 27 4 x 9 = 36 5 x 9 = 45 6 x 9 = 54 7 x 9 = 63 8 x 9 = 72 9 x 9 = 81 \n"
          ],
          "name": "stdout"
        }
      ]
    },
    {
      "cell_type": "markdown",
      "metadata": {
        "id": "2ve5NSmt41my",
        "colab_type": "text"
      },
      "source": [
        "# 17-4"
      ]
    },
    {
      "cell_type": "code",
      "metadata": {
        "id": "hCBHKLvM41Oq",
        "colab_type": "code",
        "colab": {
          "base_uri": "https://localhost:8080/",
          "height": 35
        },
        "outputId": "980cd393-c211-41a2-cd5b-ca5b5e53721c"
      },
      "source": [
        "for i in range(1, 20):\n",
        "    if i == 5:\n",
        "        continue\n",
        "    print(i, end=\" \")\n",
        "    if i == 10:\n",
        "        break\n",
        "print(\"END\")"
      ],
      "execution_count": 4,
      "outputs": [
        {
          "output_type": "stream",
          "text": [
            "1 2 3 4 6 7 8 9 10 END\n"
          ],
          "name": "stdout"
        }
      ]
    },
    {
      "cell_type": "markdown",
      "metadata": {
        "id": "D-PqfMOW48AD",
        "colab_type": "text"
      },
      "source": [
        "# 17-5"
      ]
    },
    {
      "cell_type": "code",
      "metadata": {
        "id": "jLo0WsF_473p",
        "colab_type": "code",
        "colab": {
          "base_uri": "https://localhost:8080/",
          "height": 53
        },
        "outputId": "2296f461-b187-437a-936a-1785e4aa007f"
      },
      "source": [
        "num = int(input(\"Please specify the range(0~N): \"))\n",
        "for i in range(2, num+1):   \n",
        "    for j in range(2, i):\n",
        "        if(i%j == 0): \n",
        "            break \n",
        "    else: \n",
        "        print(i)"
      ],
      "execution_count": 6,
      "outputs": [
        {
          "output_type": "stream",
          "text": [
            "Please specify the range(0~N): 2\n",
            "2\n"
          ],
          "name": "stdout"
        }
      ]
    }
  ]
}