{
  "nbformat": 4,
  "nbformat_minor": 0,
  "metadata": {
    "colab": {
      "name": "CH.18.ipynb",
      "provenance": [],
      "include_colab_link": true
    },
    "kernelspec": {
      "name": "python3",
      "display_name": "Python 3"
    }
  },
  "cells": [
    {
      "cell_type": "markdown",
      "metadata": {
        "id": "view-in-github",
        "colab_type": "text"
      },
      "source": [
        "<a href=\"https://colab.research.google.com/github/mapleyoyo/Python/blob/master/CH_18.ipynb\" target=\"_parent\"><img src=\"https://colab.research.google.com/assets/colab-badge.svg\" alt=\"Open In Colab\"/></a>"
      ]
    },
    {
      "cell_type": "markdown",
      "metadata": {
        "id": "ZegjOJVF5aij",
        "colab_type": "text"
      },
      "source": [
        "# **CH.18**"
      ]
    },
    {
      "cell_type": "markdown",
      "metadata": {
        "id": "kwCpb0Fx5aW4",
        "colab_type": "text"
      },
      "source": [
        "# 18-1"
      ]
    },
    {
      "cell_type": "code",
      "metadata": {
        "id": "9Q-97sVZ5YOh",
        "colab_type": "code",
        "colab": {
          "base_uri": "https://localhost:8080/",
          "height": 271
        },
        "outputId": "bb64c499-f5ed-47c0-abeb-6fa1be0f57c2"
      },
      "source": [
        "for ch in \"Python is fun!\":\n",
        "    print(\"the character is\", ch) "
      ],
      "execution_count": 1,
      "outputs": [
        {
          "output_type": "stream",
          "text": [
            "the character is P\n",
            "the character is y\n",
            "the character is t\n",
            "the character is h\n",
            "the character is o\n",
            "the character is n\n",
            "the character is  \n",
            "the character is i\n",
            "the character is s\n",
            "the character is  \n",
            "the character is f\n",
            "the character is u\n",
            "the character is n\n",
            "the character is !\n"
          ],
          "name": "stdout"
        }
      ]
    },
    {
      "cell_type": "markdown",
      "metadata": {
        "id": "deXCETiB6EFe",
        "colab_type": "text"
      },
      "source": [
        "# 18-2"
      ]
    },
    {
      "cell_type": "code",
      "metadata": {
        "id": "0ZCoSIoV6Dxu",
        "colab_type": "code",
        "colab": {
          "base_uri": "https://localhost:8080/",
          "height": 271
        },
        "outputId": "381ac2e3-1036-4eb3-a1a4-6b1df1357dd8"
      },
      "source": [
        "my_string = \"Python is fun!\"\n",
        "len_s = len(my_string)\n",
        "for i in range(len_s):\n",
        "    print(\"the character is\", my_string[i]) "
      ],
      "execution_count": 2,
      "outputs": [
        {
          "output_type": "stream",
          "text": [
            "the character is P\n",
            "the character is y\n",
            "the character is t\n",
            "the character is h\n",
            "the character is o\n",
            "the character is n\n",
            "the character is  \n",
            "the character is i\n",
            "the character is s\n",
            "the character is  \n",
            "the character is f\n",
            "the character is u\n",
            "the character is n\n",
            "the character is !\n"
          ],
          "name": "stdout"
        }
      ]
    },
    {
      "cell_type": "markdown",
      "metadata": {
        "id": "pUHoaj5A6Kb-",
        "colab_type": "text"
      },
      "source": [
        "# 18-3"
      ]
    },
    {
      "cell_type": "code",
      "metadata": {
        "id": "WEGlpixU6KTb",
        "colab_type": "code",
        "colab": {
          "base_uri": "https://localhost:8080/",
          "height": 90
        },
        "outputId": "e4d96ea1-ad25-466a-96be-66c4ee406658"
      },
      "source": [
        "winners =(\"Peter\", \"Mark\", \"Joy\")\n",
        "print(\" 恭喜以下得獎人:\")\n",
        "for name in winners:\n",
        "    print(name)"
      ],
      "execution_count": 3,
      "outputs": [
        {
          "output_type": "stream",
          "text": [
            " 恭喜以下得獎人:\n",
            "Peter\n",
            "Mark\n",
            "Joy\n"
          ],
          "name": "stdout"
        }
      ]
    },
    {
      "cell_type": "markdown",
      "metadata": {
        "id": "KKlyfegA6V0H",
        "colab_type": "text"
      },
      "source": [
        "# 18-4"
      ]
    },
    {
      "cell_type": "code",
      "metadata": {
        "id": "Cxdy7_zf6VpO",
        "colab_type": "code",
        "colab": {
          "base_uri": "https://localhost:8080/",
          "height": 90
        },
        "outputId": "7e2ae30e-f707-48a4-85a4-c546708fb3f1"
      },
      "source": [
        "prizes =(\" 頭獎 \", \" 二獎 \", \" 三獎 \")\n",
        "winners =(\"Peter\", \"Mark\", \"Joy\")\n",
        "print(\" 恭喜以下得獎人:\")\n",
        "for i in range(3):\n",
        "    print(prizes[i]+ \":\" + winners[i]) "
      ],
      "execution_count": 4,
      "outputs": [
        {
          "output_type": "stream",
          "text": [
            " 恭喜以下得獎人:\n",
            " 頭獎 :Peter\n",
            " 二獎 :Mark\n",
            " 三獎 :Joy\n"
          ],
          "name": "stdout"
        }
      ]
    },
    {
      "cell_type": "markdown",
      "metadata": {
        "id": "8KDUX3706bbP",
        "colab_type": "text"
      },
      "source": [
        "# 18-5"
      ]
    },
    {
      "cell_type": "code",
      "metadata": {
        "id": "RVvPiT0m6bUO",
        "colab_type": "code",
        "colab": {
          "base_uri": "https://localhost:8080/",
          "height": 90
        },
        "outputId": "d31f2465-8f5b-4631-b4e2-8720a6ff007e"
      },
      "source": [
        "winners =((\" 頭獎 \", \"Peter\"),(\" 二獎 \", \"Mark\"),(\" 三獎 \", \"Joy\"))\n",
        "print(\" 恭喜以下得獎人:\")\n",
        "for e in winners: \n",
        "    print(e[0]+ \":\" + e[1])"
      ],
      "execution_count": 5,
      "outputs": [
        {
          "output_type": "stream",
          "text": [
            " 恭喜以下得獎人:\n",
            " 頭獎 :Peter\n",
            " 二獎 :Mark\n",
            " 三獎 :Joy\n"
          ],
          "name": "stdout"
        }
      ]
    },
    {
      "cell_type": "markdown",
      "metadata": {
        "id": "ge52MCsX6eVF",
        "colab_type": "text"
      },
      "source": [
        "# 18-6"
      ]
    },
    {
      "cell_type": "code",
      "metadata": {
        "id": "rk6tlRd_6eKo",
        "colab_type": "code",
        "colab": {
          "base_uri": "https://localhost:8080/",
          "height": 90
        },
        "outputId": "cf3c06c1-e2d8-4806-9f58-f871aee1c535"
      },
      "source": [
        "winners =((\" 頭獎 \", \"Peter\"),(\" 二獎 \", \"Mark\"),(\" 三獎 \", \"Joy\"))\n",
        "print(\" 恭喜以下獎人:\")\n",
        "for prize, winner in winners:\n",
        "    print(prize+ \":\" + winner) "
      ],
      "execution_count": 6,
      "outputs": [
        {
          "output_type": "stream",
          "text": [
            " 恭喜以下獎人:\n",
            " 頭獎 :Peter\n",
            " 二獎 :Mark\n",
            " 三獎 :Joy\n"
          ],
          "name": "stdout"
        }
      ]
    },
    {
      "cell_type": "markdown",
      "metadata": {
        "id": "KNuwLHbC6jVW",
        "colab_type": "text"
      },
      "source": [
        "# 18-7for迴圈"
      ]
    },
    {
      "cell_type": "code",
      "metadata": {
        "id": "jZ0_nxvf6kld",
        "colab_type": "code",
        "colab": {
          "base_uri": "https://localhost:8080/",
          "height": 72
        },
        "outputId": "67a8c947-eb8f-4eaf-ca1e-df89c69a1b88"
      },
      "source": [
        "for x in range(3):\n",
        "    print(\"var x is\", x)"
      ],
      "execution_count": 7,
      "outputs": [
        {
          "output_type": "stream",
          "text": [
            "var x is 0\n",
            "var x is 1\n",
            "var x is 2\n"
          ],
          "name": "stdout"
        }
      ]
    },
    {
      "cell_type": "markdown",
      "metadata": {
        "id": "LJ3od5S16pty",
        "colab_type": "text"
      },
      "source": [
        "# 18-7while迴圈"
      ]
    },
    {
      "cell_type": "code",
      "metadata": {
        "id": "iBklx2H96pl-",
        "colab_type": "code",
        "colab": {
          "base_uri": "https://localhost:8080/",
          "height": 72
        },
        "outputId": "8023829e-8f75-47ff-df15-fc998b65c0db"
      },
      "source": [
        " x = 0\n",
        "while x < 3:\n",
        "    print(\"var x is\", x)\n",
        "    x += 1"
      ],
      "execution_count": 8,
      "outputs": [
        {
          "output_type": "stream",
          "text": [
            "var x is 0\n",
            "var x is 1\n",
            "var x is 2\n"
          ],
          "name": "stdout"
        }
      ]
    }
  ]
}