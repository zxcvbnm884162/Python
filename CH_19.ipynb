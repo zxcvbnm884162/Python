{
  "nbformat": 4,
  "nbformat_minor": 0,
  "metadata": {
    "colab": {
      "name": "CH.19.ipynb",
      "provenance": [],
      "include_colab_link": true
    },
    "kernelspec": {
      "name": "python3",
      "display_name": "Python 3"
    }
  },
  "cells": [
    {
      "cell_type": "markdown",
      "metadata": {
        "id": "view-in-github",
        "colab_type": "text"
      },
      "source": [
        "<a href=\"https://colab.research.google.com/github/mapleyoyo/Python/blob/master/CH_19.ipynb\" target=\"_parent\"><img src=\"https://colab.research.google.com/assets/colab-badge.svg\" alt=\"Open In Colab\"/></a>"
      ]
    },
    {
      "cell_type": "markdown",
      "metadata": {
        "id": "abl7cCZp7JJD",
        "colab_type": "text"
      },
      "source": [
        "# **CH.19**"
      ]
    },
    {
      "cell_type": "markdown",
      "metadata": {
        "id": "fDK1nO-j7I9P",
        "colab_type": "text"
      },
      "source": [
        "# 19-1"
      ]
    },
    {
      "cell_type": "code",
      "metadata": {
        "id": "e6cDazYY7GCQ",
        "colab_type": "code",
        "colab": {}
      },
      "source": [
        "words = \"\"\"art\n",
        "hue\n",
        "ink\n",
        "...\n",
        "crosshatching\n",
        "\"\"\"\n",
        "tiles = \"hijklmnop\"\n",
        "all_valid_words =()\n",
        "start = 0\n",
        "end = 0\n",
        "found_words =()"
      ],
      "execution_count": 0,
      "outputs": []
    },
    {
      "cell_type": "markdown",
      "metadata": {
        "id": "vxas6NOQ7Qds",
        "colab_type": "text"
      },
      "source": [
        "# 19-2"
      ]
    },
    {
      "cell_type": "code",
      "metadata": {
        "id": "cd-ybEGE7QNU",
        "colab_type": "code",
        "colab": {}
      },
      "source": [
        "words = \"\"\"art hue\n",
        "ink\n",
        "...\n",
        "crosshatching\n",
        "\"\"\"\n",
        "tiles = \"hijklmnop\"\n",
        "all_valid_words =()\n",
        "start = 0\n",
        "end = 0\n",
        "found_words =() \n",
        "\n",
        "for char in words:\n",
        "    if char == \"\\n\":\n",
        "        all_valid_words = all_valid_words +(words[start:end], )\n",
        "        start = end + 1\n",
        "        end = end +1\n",
        "    else:\n",
        "        end = end + 1 "
      ],
      "execution_count": 0,
      "outputs": []
    },
    {
      "cell_type": "markdown",
      "metadata": {
        "id": "MCMxgxwD7UDD",
        "colab_type": "text"
      },
      "source": [
        "# 19-3"
      ]
    },
    {
      "cell_type": "code",
      "metadata": {
        "id": "mUl8MC517T5W",
        "colab_type": "code",
        "colab": {
          "base_uri": "https://localhost:8080/",
          "height": 35
        },
        "outputId": "e4fefc15-e28e-4d25-f6dd-a612df60f04e"
      },
      "source": [
        "words = \"\"\"art hue\n",
        "ink\n",
        "...\n",
        "crosshatching\n",
        "\"\"\"\n",
        "tiles = \"hijklmnop\"\n",
        "all_valid_words =()\n",
        "start = 0\n",
        "end = 0\n",
        "found_words =() \n",
        "\n",
        "for char in words:\n",
        "    if char == \"\\n\":\n",
        "        all_valid_words = all_valid_words +(words[start:end], )\n",
        "        start = end + 1\n",
        "        end = end +1\n",
        "    else:\n",
        "        end = end + 1\n",
        "\n",
        "for word in all_valid_words:\n",
        "    tiles_left = tiles\n",
        "for letter in word:\n",
        "    if letter not in tiles_left:\n",
        "        break\n",
        "    else:\n",
        "        index = tiles_left.find(letter)\n",
        "        tiles_left = tiles_left[:index]+tiles_left[index+1:]\n",
        "    if len(word)== len(tiles)-len(tiles_left):\n",
        "        found_words = found_words +(word, )\n",
        "print(found_words)"
      ],
      "execution_count": 5,
      "outputs": [
        {
          "output_type": "stream",
          "text": [
            "()\n"
          ],
          "name": "stdout"
        }
      ]
    }
  ]
}