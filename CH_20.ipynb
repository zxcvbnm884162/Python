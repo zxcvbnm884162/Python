{
  "nbformat": 4,
  "nbformat_minor": 0,
  "metadata": {
    "colab": {
      "name": "CH.20.ipynb",
      "provenance": [],
      "include_colab_link": true
    },
    "kernelspec": {
      "name": "python3",
      "display_name": "Python 3"
    }
  },
  "cells": [
    {
      "cell_type": "markdown",
      "metadata": {
        "id": "view-in-github",
        "colab_type": "text"
      },
      "source": [
        "<a href=\"https://colab.research.google.com/github/mapleyoyo/Python/blob/master/CH_20.ipynb\" target=\"_parent\"><img src=\"https://colab.research.google.com/assets/colab-badge.svg\" alt=\"Open In Colab\"/></a>"
      ]
    },
    {
      "cell_type": "markdown",
      "metadata": {
        "id": "KRxgpJzv72sN",
        "colab_type": "text"
      },
      "source": [
        "# **CH.20**"
      ]
    },
    {
      "cell_type": "markdown",
      "metadata": {
        "id": "kmsJmD_A72i4",
        "colab_type": "text"
      },
      "source": [
        "# 20-1"
      ]
    },
    {
      "cell_type": "code",
      "metadata": {
        "id": "6sJM2m8T7uUf",
        "colab_type": "code",
        "colab": {
          "base_uri": "https://localhost:8080/",
          "height": 90
        },
        "outputId": "eb354efe-40d7-42f5-9ba2-913ae674addc"
      },
      "source": [
        "a= 1\n",
        "b= 2\n",
        "print(a+b)\n",
        "print(a-b)\n",
        "print(a*b)\n",
        "print(a/b)"
      ],
      "execution_count": 1,
      "outputs": [
        {
          "output_type": "stream",
          "text": [
            "3\n",
            "-1\n",
            "2\n",
            "0.5\n"
          ],
          "name": "stdout"
        }
      ]
    },
    {
      "cell_type": "markdown",
      "metadata": {
        "id": "TH1mrnU979EK",
        "colab_type": "text"
      },
      "source": [
        "# 20-2"
      ]
    },
    {
      "cell_type": "code",
      "metadata": {
        "id": "FbgaZj4c7885",
        "colab_type": "code",
        "colab": {
          "base_uri": "https://localhost:8080/",
          "height": 235
        },
        "outputId": "39d88b39-be73-4db6-85aa-b37428488c17"
      },
      "source": [
        "a= 1\n",
        "b= 2\n",
        "print(a+b)\n",
        "print(a-b)\n",
        "print(a*b)\n",
        "print(a/b)\n",
        "a= 3\n",
        "b= 4\n",
        "print(a+b)\n",
        "print(a-b)\n",
        "print(a*b)\n",
        "print(a/b)\n",
        "a= 5\n",
        "b= 6\n",
        "print(a+b)\n",
        "print(a-b)\n",
        "print(a*b)\n",
        "print(a/b)"
      ],
      "execution_count": 2,
      "outputs": [
        {
          "output_type": "stream",
          "text": [
            "3\n",
            "-1\n",
            "2\n",
            "0.5\n",
            "7\n",
            "-1\n",
            "12\n",
            "0.75\n",
            "11\n",
            "-1\n",
            "30\n",
            "0.8333333333333334\n"
          ],
          "name": "stdout"
        }
      ]
    }
  ]
}