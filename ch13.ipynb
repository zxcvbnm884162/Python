{
  "nbformat": 4,
  "nbformat_minor": 0,
  "metadata": {
    "colab": {
      "name": "ch13.ipynb",
      "provenance": [],
      "collapsed_sections": [],
      "include_colab_link": true
    },
    "kernelspec": {
      "name": "python3",
      "display_name": "Python 3"
    }
  },
  "cells": [
    {
      "cell_type": "markdown",
      "metadata": {
        "id": "view-in-github",
        "colab_type": "text"
      },
      "source": [
        "<a href=\"https://colab.research.google.com/github/mapleyoyo/Python/blob/master/ch13.ipynb\" target=\"_parent\"><img src=\"https://colab.research.google.com/assets/colab-badge.svg\" alt=\"Open In Colab\"/></a>"
      ]
    },
    {
      "cell_type": "markdown",
      "metadata": {
        "id": "L9xJCuC5_9Ju",
        "colab_type": "text"
      },
      "source": [
        "# **ch13**"
      ]
    },
    {
      "cell_type": "markdown",
      "metadata": {
        "id": "CCr5lJm__86y",
        "colab_type": "text"
      },
      "source": [
        "# 13-1"
      ]
    },
    {
      "cell_type": "code",
      "metadata": {
        "id": "ANxsrzNe_yTt",
        "colab_type": "code",
        "colab": {
          "base_uri": "https://localhost:8080/",
          "height": 67
        },
        "outputId": "9433674b-9ccf-467f-9fe9-b0ba2f19f447"
      },
      "source": [
        "num = int(input(\"Enter a number: \"))\n",
        "if num > 0:\n",
        "    print(\"num is positive\")\n",
        "print(\"finished comparing num to 0\")"
      ],
      "execution_count": 1,
      "outputs": [
        {
          "output_type": "stream",
          "text": [
            "Enter a number: 10\n",
            "num is positive\n",
            "finished comparing num to 0\n"
          ],
          "name": "stdout"
        }
      ]
    },
    {
      "cell_type": "markdown",
      "metadata": {
        "id": "lZb1udZdBNH2",
        "colab_type": "text"
      },
      "source": [
        "# 13-2"
      ]
    },
    {
      "cell_type": "code",
      "metadata": {
        "id": "oB0wqIUxAmsT",
        "colab_type": "code",
        "colab": {
          "base_uri": "https://localhost:8080/",
          "height": 67
        },
        "outputId": "77e98db2-05f4-4f21-9d6e-da0035495b8e"
      },
      "source": [
        "num_a = int(input(\"Pick a number: \"))   \n",
        "if num_a > 0:\n",
        "    print(\"Your number is positive\")   \n",
        "if num_a < 0:\n",
        "    print(\"Your number is negative \") \n",
        "if num_a == 0: \n",
        "    print(\"Your number is zero\")\n",
        "print(\"Finished!\")"
      ],
      "execution_count": 2,
      "outputs": [
        {
          "output_type": "stream",
          "text": [
            "Pick a number: 123\n",
            "Your number is positive\n",
            "Finished!\n"
          ],
          "name": "stdout"
        }
      ]
    },
    {
      "cell_type": "markdown",
      "metadata": {
        "id": "nVwGAeOABP2w",
        "colab_type": "text"
      },
      "source": [
        "# 13-3非巢狀條件式"
      ]
    },
    {
      "cell_type": "code",
      "metadata": {
        "id": "yRgq-2w9AsNs",
        "colab_type": "code",
        "colab": {
          "base_uri": "https://localhost:8080/",
          "height": 67
        },
        "outputId": "9d872b50-c045-4685-a273-294b04a8c869"
      },
      "source": [
        "num_a = int(input(\"Number? \"))\n",
        "num_b = int(input(\"Number? \"))\n",
        "if num_a < 0:\n",
        "   print(\"num_a is negative\") \n",
        "if num_b < 0:\n",
        "    print(\"num_b is negative\")\n",
        "print(\"Finished\")"
      ],
      "execution_count": 3,
      "outputs": [
        {
          "output_type": "stream",
          "text": [
            "Number? 123\n",
            "Number? 123\n",
            "Finished\n"
          ],
          "name": "stdout"
        }
      ]
    },
    {
      "cell_type": "markdown",
      "metadata": {
        "id": "zIFlazcpBfIn",
        "colab_type": "text"
      },
      "source": [
        "# 13-3巢狀條件式"
      ]
    },
    {
      "cell_type": "code",
      "metadata": {
        "id": "VhHfaVpFAzH4",
        "colab_type": "code",
        "colab": {
          "base_uri": "https://localhost:8080/",
          "height": 67
        },
        "outputId": "cbf597a5-6f9c-4687-89cd-41db04f0a2fe"
      },
      "source": [
        "num_a = int(input(\"Number? \"))\n",
        "num_b = int(input(\"Number? \"))\n",
        "if num_a < 0:      \n",
        "    print(\"num_a is negative\")\n",
        "    if num_b < 0:\n",
        "        print(\"num_b is negative\")\n",
        "print(\"Finished\")"
      ],
      "execution_count": 4,
      "outputs": [
        {
          "output_type": "stream",
          "text": [
            "Number? 123\n",
            "Number? 132\n",
            "Finished\n"
          ],
          "name": "stdout"
        }
      ]
    },
    {
      "cell_type": "markdown",
      "metadata": {
        "id": "3ARSHYrPBmLN",
        "colab_type": "text"
      },
      "source": [
        "# 13-4"
      ]
    },
    {
      "cell_type": "code",
      "metadata": {
        "id": "Uaitni6wA5Yt",
        "colab_type": "code",
        "colab": {
          "base_uri": "https://localhost:8080/",
          "height": 67
        },
        "outputId": "3cd7995b-3dbf-4c8f-d959-2c58ea42df6d"
      },
      "source": [
        "price = float(input(\"How much does a chocolate bar cost? \"))\n",
        "hungry = input(\"Are you hungry(yes or no)? \")\n",
        "\n",
        "bars = 0\n",
        "if hungry == \"yes\": \n",
        "    if price < 10:\n",
        "        print(\"Buy all chocolate bars.\")\n",
        "        bar = 100\n",
        "    if 10 <= price <= 50:\n",
        "        print(\"Buy 10 chocolate bars.\")     \n",
        "        bars = 10\n",
        "    if price > 50:\n",
        "        print(\"Buy only one chocolate bar.\")\n",
        "        bars = 1\n",
        "if hungry == \"no\":\n",
        "    print(\"Stick to the shopping list.\")\n",
        "if bars > 10:\n",
        "    print(\"Cashier says: someone's hungry!\")"
      ],
      "execution_count": 7,
      "outputs": [
        {
          "output_type": "stream",
          "text": [
            "How much does a chocolate bar cost? 123\n",
            "Are you hungry(yes or no)? yes\n",
            "Buy only one chocolate bar.\n"
          ],
          "name": "stdout"
        }
      ]
    },
    {
      "cell_type": "markdown",
      "metadata": {
        "id": "tn22S4CrBng3",
        "colab_type": "text"
      },
      "source": [
        "# 13-5"
      ]
    },
    {
      "cell_type": "code",
      "metadata": {
        "id": "43UQNHVTBBjl",
        "colab_type": "code",
        "colab": {
          "base_uri": "https://localhost:8080/",
          "height": 67
        },
        "outputId": "3855b2d3-3ef2-4d6f-9f7f-e292d0c6daa4"
      },
      "source": [
        "num_a = int(input(\"pick a number:\"))\n",
        "num_b = int(input(\"pick a number:\"))\n",
        "if num_a < 0 and num_b < 0: \n",
        "    print(\"both negative\")"
      ],
      "execution_count": 9,
      "outputs": [
        {
          "output_type": "stream",
          "text": [
            "pick a number:-1\n",
            "pick a number:-2\n",
            "both negative\n"
          ],
          "name": "stdout"
        }
      ]
    }
  ]
}