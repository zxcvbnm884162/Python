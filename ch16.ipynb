{
  "nbformat": 4,
  "nbformat_minor": 0,
  "metadata": {
    "colab": {
      "name": "ch16.ipynb",
      "provenance": [],
      "include_colab_link": true
    },
    "kernelspec": {
      "name": "python3",
      "display_name": "Python 3"
    }
  },
  "cells": [
    {
      "cell_type": "markdown",
      "metadata": {
        "id": "view-in-github",
        "colab_type": "text"
      },
      "source": [
        "<a href=\"https://colab.research.google.com/github/mapleyoyo/Python/blob/master/ch16.ipynb\" target=\"_parent\"><img src=\"https://colab.research.google.com/assets/colab-badge.svg\" alt=\"Open In Colab\"/></a>"
      ]
    },
    {
      "cell_type": "markdown",
      "metadata": {
        "id": "YMPuu_Fy2V41",
        "colab_type": "text"
      },
      "source": [
        "# **CH16**"
      ]
    },
    {
      "cell_type": "markdown",
      "metadata": {
        "id": "WvCoVCIy2Vk3",
        "colab_type": "text"
      },
      "source": [
        "# 16-1"
      ]
    },
    {
      "cell_type": "code",
      "metadata": {
        "id": "59NqDb4O2QLG",
        "colab_type": "code",
        "colab": {
          "base_uri": "https://localhost:8080/",
          "height": 90
        },
        "outputId": "7a7fa4e0-22ec-4f49-ec7e-4560f9a84378"
      },
      "source": [
        "s = input(\" 請輸入顯示內容 : \")\n",
        "n = int(input(\" 請輸入顯示次數 : \"))\n",
        "while n > 0:\n",
        "    print(s)\n",
        "    n = n-1"
      ],
      "execution_count": 1,
      "outputs": [
        {
          "output_type": "stream",
          "text": [
            " 請輸入顯示內容 : 1\n",
            " 請輸入顯示次數 : 2\n",
            "1\n",
            "1\n"
          ],
          "name": "stdout"
        }
      ]
    },
    {
      "cell_type": "markdown",
      "metadata": {
        "id": "hvqHZZvY2etF",
        "colab_type": "text"
      },
      "source": [
        "# 16-2"
      ]
    },
    {
      "cell_type": "code",
      "metadata": {
        "id": "yMm4_2YS2c19",
        "colab_type": "code",
        "colab": {
          "base_uri": "https://localhost:8080/",
          "height": 53
        },
        "outputId": "0f673663-7436-4830-8d6a-11f1011b292a"
      },
      "source": [
        "lucky_num = 77\n",
        "guess = int(input(\"Guess a Number(0-99): \"))\n",
        "tries = 1\n",
        "while guess != lucky_num:\n",
        "    print(\"You tried to guess\", tries, \"times\")\n",
        "    guess = int(input(\"Guess again: \"))\n",
        "    tries += 1\n",
        "print(\"You got it!\")"
      ],
      "execution_count": 3,
      "outputs": [
        {
          "output_type": "stream",
          "text": [
            "Guess a Number(0-99): 77\n",
            "You got it!\n"
          ],
          "name": "stdout"
        }
      ]
    },
    {
      "cell_type": "markdown",
      "metadata": {
        "id": "Vh42kWlJ2d5k",
        "colab_type": "text"
      },
      "source": [
        "# 16-3"
      ]
    },
    {
      "cell_type": "code",
      "metadata": {
        "id": "02t7EJib2dlG",
        "colab_type": "code",
        "colab": {
          "base_uri": "https://localhost:8080/",
          "height": 53
        },
        "outputId": "96270cfb-5928-443d-c233-872a772b102e"
      },
      "source": [
        "secret = \"code\"\n",
        "max_tries = 100\n",
        "guess = input(\"Guess a word: \")\n",
        "tries = 1\n",
        "while guess != secret:\n",
        "    print(\"You tried to guess\", tries, \"times\")\n",
        "    if tries == max_tries:\n",
        "        print(\"You ran out of tries.\")\n",
        "        break\n",
        "    guess = input(\"Guess again: \")\n",
        "    tries += 1\n",
        "if tries <= max_tries and guess == secret:\n",
        "    print(\"You got it!\")"
      ],
      "execution_count": 7,
      "outputs": [
        {
          "output_type": "stream",
          "text": [
            "Guess a word: code\n",
            "You got it!\n"
          ],
          "name": "stdout"
        }
      ]
    },
    {
      "cell_type": "markdown",
      "metadata": {
        "id": "Sin52iDD3MRX",
        "colab_type": "text"
      },
      "source": [
        "# 16-4"
      ]
    },
    {
      "cell_type": "code",
      "metadata": {
        "id": "D5ZwU7rQ2cbK",
        "colab_type": "code",
        "colab": {
          "base_uri": "https://localhost:8080/",
          "height": 35
        },
        "outputId": "ae9d6bc6-9870-4bfe-e7dc-2477eead5eb6"
      },
      "source": [
        "i= 1\n",
        "while(i < 10):\n",
        "    if i == 5:\n",
        "        i += 1\n",
        "        continue\n",
        "    print(i, end=' ')\n",
        "    i += 1\n",
        "print(\"End\")"
      ],
      "execution_count": 8,
      "outputs": [
        {
          "output_type": "stream",
          "text": [
            "1 2 3 4 6 7 8 9 End\n"
          ],
          "name": "stdout"
        }
      ]
    },
    {
      "cell_type": "markdown",
      "metadata": {
        "id": "41TVuLF83Udh",
        "colab_type": "text"
      },
      "source": [
        "# 16-5"
      ]
    },
    {
      "cell_type": "code",
      "metadata": {
        "id": "2sDNySMF3OFl",
        "colab_type": "code",
        "colab": {
          "base_uri": "https://localhost:8080/",
          "height": 90
        },
        "outputId": "6526262c-e941-4aad-b06e-2df71b54acd7"
      },
      "source": [
        "#s = \"\" \n",
        "while s != \"喵喵\":\n",
        "    if s != \"\":\n",
        "        print(\" 不對喔!\")\n",
        "    s = input(\" 請輸入通關密語:\")\n",
        "    if s == \"out\":\n",
        "        break\n",
        "else: \n",
        "    print(\" 恭喜你過關了 \")\n",
        "print(\" 再見!\")"
      ],
      "execution_count": 9,
      "outputs": [
        {
          "output_type": "stream",
          "text": [
            " 不對喔!\n",
            " 請輸入通關密語:喵喵\n",
            " 恭喜你過關了 \n",
            " 再見!\n"
          ],
          "name": "stdout"
        }
      ]
    }
  ]
}