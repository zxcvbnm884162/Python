{
  "nbformat": 4,
  "nbformat_minor": 0,
  "metadata": {
    "colab": {
      "name": "strings.ipynb",
      "provenance": [],
      "collapsed_sections": [],
      "include_colab_link": true
    },
    "kernelspec": {
      "name": "python3",
      "display_name": "Python 3"
    }
  },
  "cells": [
    {
      "cell_type": "markdown",
      "metadata": {
        "id": "view-in-github",
        "colab_type": "text"
      },
      "source": [
        "<a href=\"https://colab.research.google.com/github/mapleyoyo/Python/blob/master/strings.ipynb\" target=\"_parent\"><img src=\"https://colab.research.google.com/assets/colab-badge.svg\" alt=\"Open In Colab\"/></a>"
      ]
    },
    {
      "cell_type": "code",
      "metadata": {
        "id": "6NGnMrvrI090",
        "colab_type": "code",
        "colab": {
          "base_uri": "https://localhost:8080/",
          "height": 34
        },
        "outputId": "dc3c46b9-e018-45a2-e974-8408bceeae95"
      },
      "source": [
        "first_name = 'Susan'\n",
        "print(first_name)\n"
      ],
      "execution_count": 1,
      "outputs": [
        {
          "output_type": "stream",
          "text": [
            "Susan\n"
          ],
          "name": "stdout"
        }
      ]
    },
    {
      "cell_type": "code",
      "metadata": {
        "id": "vxKMiq69I7cR",
        "colab_type": "code",
        "colab": {
          "base_uri": "https://localhost:8080/",
          "height": 51
        },
        "outputId": "150e2574-3549-40bd-a6fd-ef8d52067b0e"
      },
      "source": [
        "first_name = 'Susan'\n",
        "last_name = 'Ibach'\n",
        "print(first_name + last_name)\n",
        "print('Hello ' + first_name + ' ' + last_name)\n"
      ],
      "execution_count": 2,
      "outputs": [
        {
          "output_type": "stream",
          "text": [
            "SusanIbach\n",
            "Hello Susan Ibach\n"
          ],
          "name": "stdout"
        }
      ]
    },
    {
      "cell_type": "code",
      "metadata": {
        "id": "EoHFE4gbJB9U",
        "colab_type": "code",
        "colab": {
          "base_uri": "https://localhost:8080/",
          "height": 85
        },
        "outputId": "ed0e1c4b-cb96-4d95-efb7-84de63b92040"
      },
      "source": [
        "sentence = 'The dog is named Sammy'\n",
        "print(sentence.upper())\n",
        "print(sentence.lower())\n",
        "print(sentence.capitalize())\n",
        "print(sentence.count('a'))\n"
      ],
      "execution_count": 3,
      "outputs": [
        {
          "output_type": "stream",
          "text": [
            "THE DOG IS NAMED SAMMY\n",
            "the dog is named sammy\n",
            "The dog is named sammy\n",
            "2\n"
          ],
          "name": "stdout"
        }
      ]
    },
    {
      "cell_type": "code",
      "metadata": {
        "id": "nRWYSlV-JF5y",
        "colab_type": "code",
        "colab": {
          "base_uri": "https://localhost:8080/",
          "height": 68
        },
        "outputId": "d40fc691-4d06-44f5-f260-e2597da0d4c6"
      },
      "source": [
        "first_name = input('What is your first name? ')\n",
        "last_name = input('What is your last name? ')\n",
        "print ('Hello ' + first_name.capitalize() + ' ' \\\n",
        "       + last_name.capitalize())\n",
        "\u000b\n"
      ],
      "execution_count": 4,
      "outputs": [
        {
          "output_type": "stream",
          "text": [
            "What is your first name? 123\n",
            "What is your last name? 123\n",
            "Hello 123 123\n"
          ],
          "name": "stdout"
        }
      ]
    }
  ]
}