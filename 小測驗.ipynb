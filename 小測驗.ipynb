{
  "nbformat": 4,
  "nbformat_minor": 0,
  "metadata": {
    "colab": {
      "name": "小測驗",
      "provenance": [],
      "include_colab_link": true
    },
    "kernelspec": {
      "name": "python3",
      "display_name": "Python 3"
    }
  },
  "cells": [
    {
      "cell_type": "markdown",
      "metadata": {
        "id": "view-in-github",
        "colab_type": "text"
      },
      "source": [
        "<a href=\"https://colab.research.google.com/github/mapleyoyo/Python/blob/master/%E5%B0%8F%E6%B8%AC%E9%A9%97.ipynb\" target=\"_parent\"><img src=\"https://colab.research.google.com/assets/colab-badge.svg\" alt=\"Open In Colab\"/></a>"
      ]
    },
    {
      "cell_type": "markdown",
      "metadata": {
        "id": "IhcG2dP73mQe",
        "colab_type": "text"
      },
      "source": [
        "# **ch 10**"
      ]
    },
    {
      "cell_type": "markdown",
      "metadata": {
        "id": "I72595T93po-",
        "colab_type": "text"
      },
      "source": [
        "# 10-1"
      ]
    },
    {
      "cell_type": "code",
      "metadata": {
        "id": "EIgp1Mqb3BY1",
        "colab_type": "code",
        "colab": {
          "base_uri": "https://localhost:8080/",
          "height": 85
        },
        "outputId": "dbad026e-0fe3-4990-a9a7-3cf5fd81a1dc"
      },
      "source": [
        "print(\"hello!\")\n",
        "print(3*2*(17-2.1))\n",
        "print(\"abc\"+\"def\")\n",
        "word = \"art\"\n",
        "print(word.replace(\"r\", \"n\"))"
      ],
      "execution_count": 1,
      "outputs": [
        {
          "output_type": "stream",
          "text": [
            "hello!\n",
            "89.4\n",
            "abcdef\n",
            "ant\n"
          ],
          "name": "stdout"
        }
      ]
    },
    {
      "cell_type": "markdown",
      "metadata": {
        "id": "l3Cx0ylZ3vm2",
        "colab_type": "text"
      },
      "source": [
        "# 10-2"
      ]
    },
    {
      "cell_type": "code",
      "metadata": {
        "id": "aHPFRBHa3IdI",
        "colab_type": "code",
        "colab": {
          "base_uri": "https://localhost:8080/",
          "height": 51
        },
        "outputId": "514b04f0-8933-42fa-ebc2-9070c2936a86"
      },
      "source": [
        "a= 1\n",
        "b= 2\n",
        "c = a/b\n",
        "print(a, \"/\", b, \"=\", c) \n",
        "add = str(a)+\"/\"+str(b)+\"=\"+str(c)\n",
        "print(add)"
      ],
      "execution_count": 2,
      "outputs": [
        {
          "output_type": "stream",
          "text": [
            "1 / 2 = 0.5\n",
            "1/2=0.5\n"
          ],
          "name": "stdout"
        }
      ]
    },
    {
      "cell_type": "markdown",
      "metadata": {
        "id": "cNY-HTNL3xsn",
        "colab_type": "text"
      },
      "source": [
        "# 10-3"
      ]
    },
    {
      "cell_type": "code",
      "metadata": {
        "id": "Wd9HPs7m3Jif",
        "colab_type": "code",
        "colab": {
          "base_uri": "https://localhost:8080/",
          "height": 51
        },
        "outputId": "54232069-3976-48be-948b-3d445906fef3"
      },
      "source": [
        "input(\"Where do you live? \")\n",
        "print(\"I live in Boston. \")"
      ],
      "execution_count": 4,
      "outputs": [
        {
          "output_type": "stream",
          "text": [
            "Where do you live? 1\n",
            "I live in Boston. \n"
          ],
          "name": "stdout"
        }
      ]
    },
    {
      "cell_type": "markdown",
      "metadata": {
        "id": "Q7K5__2j3zgu",
        "colab_type": "text"
      },
      "source": [
        "# 10-4"
      ]
    },
    {
      "cell_type": "code",
      "metadata": {
        "id": "HuhTA8wU3MOW",
        "colab_type": "code",
        "colab": {
          "base_uri": "https://localhost:8080/",
          "height": 68
        },
        "outputId": "5eaf95cd-9e62-4a65-a417-5b6a9a54156b"
      },
      "source": [
        "user_place = input(\"Where do you live? \")\n",
        "text = user_place.capitalize()+ \"!\"\n",
        "print(text) \n",
        "print(\"I hear it's nice there!\") "
      ],
      "execution_count": 5,
      "outputs": [
        {
          "output_type": "stream",
          "text": [
            "Where do you live? 1\n",
            "1!\n",
            "I hear it's nice there!\n"
          ],
          "name": "stdout"
        }
      ]
    },
    {
      "cell_type": "markdown",
      "metadata": {
        "id": "YP23P_Zt32Xe",
        "colab_type": "text"
      },
      "source": [
        "# 10-5"
      ]
    },
    {
      "cell_type": "code",
      "metadata": {
        "id": "w7w_KjMg3PC-",
        "colab_type": "code",
        "colab": {
          "base_uri": "https://localhost:8080/",
          "height": 68
        },
        "outputId": "08c02fda-8cea-4d12-b9a0-c0ed04b2b12b"
      },
      "source": [
        "num = int(input (\"Enter a number to find the square of: \"))\n",
        "user_input = input(\"Enter a integer to find the square of: \")\n",
        "num = int(user_input) \n",
        "print(num*num)"
      ],
      "execution_count": 7,
      "outputs": [
        {
          "output_type": "stream",
          "text": [
            "Enter a number to find the square of: 5\n",
            "Enter a integer to find the square of: 5\n",
            "25\n"
          ],
          "name": "stdout"
        }
      ]
    },
    {
      "cell_type": "markdown",
      "metadata": {
        "id": "osrt-E9O34Ym",
        "colab_type": "text"
      },
      "source": [
        "# 10-6"
      ]
    },
    {
      "cell_type": "code",
      "metadata": {
        "id": "GDmVlTRa3fS2",
        "colab_type": "code",
        "colab": {
          "base_uri": "https://localhost:8080/",
          "height": 68
        },
        "outputId": "254abb2a-a636-4e9a-8b6a-faf015fea6b1"
      },
      "source": [
        "num1 = float(input(\"Enter a number: \"))\n",
        "num2 = float(input(\"Enter another number: \"))\n",
        "print(num1, \"*\", num2, \"=\", num1*num2)"
      ],
      "execution_count": 8,
      "outputs": [
        {
          "output_type": "stream",
          "text": [
            "Enter a number: 5\n",
            "Enter another number: 5\n",
            "5.0 * 5.0 = 25.0\n"
          ],
          "name": "stdout"
        }
      ]
    }
  ]
}